{
 "cells": [
  {
   "cell_type": "code",
   "execution_count": 72,
   "id": "electoral-camel",
   "metadata": {},
   "outputs": [],
   "source": [
    "from keras.models import Sequential\n",
    "from keras.layers import Dense, Activation, Conv2D, MaxPooling2D, Dropout, Flatten\n",
    "from keras import optimizers\n",
    "from keras.utils import np_utils\n",
    "from keras.utils import plot_model\n",
    "import matplotlib.pyplot as plt\n",
    "import numpy as np\n",
    "import glob\n",
    "from sklearn.model_selection import train_test_split\n",
    "from sklearn.utils import class_weight\n",
    "from sklearn.metrics import confusion_matrix\n",
    "from matplotlib.colors import LogNorm, DivergingNorm, SymLogNorm\n",
    "import json"
   ]
  },
  {
   "cell_type": "code",
   "execution_count": 2,
   "id": "monetary-pattern",
   "metadata": {},
   "outputs": [],
   "source": [
    "plt.rcParams['figure.figsize'] = (10, 8)\n",
    "plt.rcParams['font.size'] = 16\n",
    "plt.rcParams['lines.linewidth'] = 2"
   ]
  },
  {
   "cell_type": "markdown",
   "id": "blank-collaboration",
   "metadata": {},
   "source": [
    "# Data preparation"
   ]
  },
  {
   "cell_type": "code",
   "execution_count": 4,
   "id": "diagnostic-afternoon",
   "metadata": {},
   "outputs": [],
   "source": [
    "input_dir = ['input/2021-03-08/', 'input/2021-03-09/', 'input/2021-03-17/',\n",
    "             'input/2021-03-18/', 'input/2021-03-19/', 'input/2021-03-24/',\n",
    "             'input/2021-03-21', 'input/2021-03-20/', 'input/2021-04-01/', 'input/2021-03-30/']"
   ]
  },
  {
   "cell_type": "code",
   "execution_count": 5,
   "id": "fantastic-color",
   "metadata": {},
   "outputs": [
    {
     "name": "stdout",
     "output_type": "stream",
     "text": [
      "(5411, 240, 320, 1)\n",
      "(array(['0', '1', '2'], dtype='<U1'), array([3529, 1096,  786]))\n",
      "(5411,)\n"
     ]
    }
   ],
   "source": [
    "pic_list = []\n",
    "labels = []\n",
    "\n",
    "for ind in input_dir:\n",
    "    pic_name_list = glob.glob(f'{ind}/picture_*.npy')\n",
    "    for i in range(len(pic_name_list)):\n",
    "        try:\n",
    "            with open(f'{ind}/picture_{i}.npy', 'rb') as f:\n",
    "                p_arr = np.load(f)\n",
    "                pic_list.append( p_arr.reshape(1, p_arr.shape[0], p_arr.shape[1], 1) )\n",
    "        except:\n",
    "            print(f'{ind}/picture_{i}.npy not found!')\n",
    "    with open(f'{ind}/labels.npy', 'rb') as f:      \n",
    "        labels.append(np.load(f))\n",
    "            \n",
    "data = np.concatenate(pic_list, axis=0)\n",
    "data = data / 255 # normalise\n",
    "\n",
    "labels = np.concatenate(labels)\n",
    "\n",
    "print(data.shape)\n",
    "print(np.unique(labels, return_counts=True))\n",
    "print(labels.shape)\n",
    "# get right shape for labels\n",
    "labels = np_utils.to_categorical(labels, 3)\n",
    "\n",
    "x_train, x_test, y_train, y_test = train_test_split(data, labels, test_size=0.33, random_state=42)"
   ]
  },
  {
   "cell_type": "code",
   "execution_count": 5,
   "id": "absolute-adams",
   "metadata": {},
   "outputs": [
    {
     "name": "stderr",
     "output_type": "stream",
     "text": [
      "/home/theo/anaconda3/envs/keras-env/lib/python3.7/site-packages/sklearn/utils/validation.py:72: FutureWarning: Pass classes=[0 1 2], y=[1 0 0 ... 0 0 0] as keyword args. From version 1.0 (renaming of 0.25) passing these as positional arguments will result in an error\n",
      "  \"will result in an error\", FutureWarning)\n"
     ]
    },
    {
     "data": {
      "text/plain": [
       "array([0.51309271, 1.64847658, 2.25015518])"
      ]
     },
     "execution_count": 5,
     "metadata": {},
     "output_type": "execute_result"
    }
   ],
   "source": [
    "class_weights = class_weight.compute_class_weight('balanced', np.unique(np.argmax(y_train, axis=1)),\n",
    "                                                  np.argmax(y_train, axis=1))\n",
    "class_weights"
   ]
  },
  {
   "cell_type": "markdown",
   "id": "outer-platinum",
   "metadata": {},
   "source": [
    "# CNN"
   ]
  },
  {
   "cell_type": "code",
   "execution_count": 6,
   "id": "developing-yield",
   "metadata": {},
   "outputs": [
    {
     "name": "stdout",
     "output_type": "stream",
     "text": [
      "WARNING:tensorflow:From /home/theo/anaconda3/envs/keras-env/lib/python3.7/site-packages/keras/backend/tensorflow_backend.py:4070: The name tf.nn.max_pool is deprecated. Please use tf.nn.max_pool2d instead.\n",
      "\n"
     ]
    }
   ],
   "source": [
    "model = Sequential()\n",
    "model.add(Conv2D(32, (5, 5), padding='same', activation = 'relu', strides=(1,1), input_shape=(240,320, 1)))\n",
    "model.add(MaxPooling2D(pool_size=(2,2), strides=(4,4)))\n",
    "model.add(Conv2D(64, (5, 5), padding='same', activation = 'relu', strides=(1,1)))\n",
    "model.add(MaxPooling2D(pool_size=(2,2), strides=(4,4)))\n",
    "model.add(Flatten())\n",
    "model.add( Dense(units=128, activation='relu') )\n",
    "model.add( Dense(units=64, activation='relu') )\n",
    "model.add( Dense(units=3, activation='softmax') )"
   ]
  },
  {
   "cell_type": "code",
   "execution_count": 7,
   "id": "given-stevens",
   "metadata": {},
   "outputs": [
    {
     "name": "stdout",
     "output_type": "stream",
     "text": [
      "Model: \"sequential_1\"\n",
      "_________________________________________________________________\n",
      "Layer (type)                 Output Shape              Param #   \n",
      "=================================================================\n",
      "conv2d_1 (Conv2D)            (None, 240, 320, 32)      832       \n",
      "_________________________________________________________________\n",
      "max_pooling2d_1 (MaxPooling2 (None, 60, 80, 32)        0         \n",
      "_________________________________________________________________\n",
      "conv2d_2 (Conv2D)            (None, 60, 80, 64)        51264     \n",
      "_________________________________________________________________\n",
      "max_pooling2d_2 (MaxPooling2 (None, 15, 20, 64)        0         \n",
      "_________________________________________________________________\n",
      "flatten_1 (Flatten)          (None, 19200)             0         \n",
      "_________________________________________________________________\n",
      "dense_1 (Dense)              (None, 128)               2457728   \n",
      "_________________________________________________________________\n",
      "dense_2 (Dense)              (None, 64)                8256      \n",
      "_________________________________________________________________\n",
      "dense_3 (Dense)              (None, 3)                 195       \n",
      "=================================================================\n",
      "Total params: 2,518,275\n",
      "Trainable params: 2,518,275\n",
      "Non-trainable params: 0\n",
      "_________________________________________________________________\n"
     ]
    }
   ],
   "source": [
    "model.summary()"
   ]
  },
  {
   "cell_type": "code",
   "execution_count": 8,
   "id": "surrounded-venue",
   "metadata": {},
   "outputs": [
    {
     "name": "stdout",
     "output_type": "stream",
     "text": [
      "WARNING:tensorflow:From /home/theo/anaconda3/envs/keras-env/lib/python3.7/site-packages/keras/backend/tensorflow_backend.py:422: The name tf.global_variables is deprecated. Please use tf.compat.v1.global_variables instead.\n",
      "\n",
      "Train on 3625 samples, validate on 1786 samples\n",
      "Epoch 1/10\n",
      "3625/3625 [==============================] - 121s 33ms/step - loss: 0.8821 - accuracy: 0.6328 - val_loss: 0.6956 - val_accuracy: 0.7144\n",
      "Epoch 2/10\n",
      "3625/3625 [==============================] - 119s 33ms/step - loss: 0.4659 - accuracy: 0.8174 - val_loss: 0.2787 - val_accuracy: 0.8919\n",
      "Epoch 3/10\n",
      "3625/3625 [==============================] - 120s 33ms/step - loss: 0.2479 - accuracy: 0.9123 - val_loss: 0.2199 - val_accuracy: 0.9183\n",
      "Epoch 4/10\n",
      "3625/3625 [==============================] - 125s 35ms/step - loss: 0.1742 - accuracy: 0.9338 - val_loss: 0.1634 - val_accuracy: 0.9468\n",
      "Epoch 5/10\n",
      "3625/3625 [==============================] - 124s 34ms/step - loss: 0.1432 - accuracy: 0.9473 - val_loss: 0.1430 - val_accuracy: 0.9552\n",
      "Epoch 6/10\n",
      "3625/3625 [==============================] - 123s 34ms/step - loss: 0.1164 - accuracy: 0.9526 - val_loss: 0.1304 - val_accuracy: 0.9574\n",
      "Epoch 7/10\n",
      "3625/3625 [==============================] - 132s 36ms/step - loss: 0.0937 - accuracy: 0.9674 - val_loss: 0.1323 - val_accuracy: 0.9569\n",
      "Epoch 8/10\n",
      "3625/3625 [==============================] - 121s 33ms/step - loss: 0.0697 - accuracy: 0.9746 - val_loss: 0.1535 - val_accuracy: 0.9474\n",
      "Epoch 9/10\n",
      "3625/3625 [==============================] - 121s 33ms/step - loss: 0.0760 - accuracy: 0.9732 - val_loss: 0.1341 - val_accuracy: 0.9530\n",
      "Epoch 10/10\n",
      "3625/3625 [==============================] - 122s 34ms/step - loss: 0.0636 - accuracy: 0.9760 - val_loss: 0.1206 - val_accuracy: 0.9625\n"
     ]
    }
   ],
   "source": [
    "model.compile(loss='categorical_crossentropy',\n",
    "              optimizer=optimizers.Adam(learning_rate=0.001), metrics=['accuracy'])\n",
    "\n",
    "n_epoch = 10\n",
    "n_batch = 128\n",
    "history = model.fit(x_train, y_train, validation_data = (x_test,y_test), class_weight=class_weights,\n",
    "                    epochs=n_epoch, batch_size=n_batch, verbose = 1)\n"
   ]
  },
  {
   "cell_type": "code",
   "execution_count": 9,
   "id": "laughing-collective",
   "metadata": {},
   "outputs": [
    {
     "name": "stdout",
     "output_type": "stream",
     "text": [
      "3625/3625 [==============================] - 27s 7ms/step\n",
      "resultats train :  [0.04839630526715311, 0.9853793382644653]\n",
      "1786/1786 [==============================] - 13s 7ms/step\n",
      "resultats test :  [0.12060288433298419, 0.9624860286712646]\n"
     ]
    },
    {
     "data": {
      "text/plain": [
       "Text(0.5, 0, 'epochs')"
      ]
     },
     "execution_count": 9,
     "metadata": {},
     "output_type": "execute_result"
    },
    {
     "data": {
      "image/png": "[encoded data removed]",
      "text/plain": [
       "<Figure size 576x288 with 2 Axes>"
      ]
     },
     "metadata": {
      "needs_background": "light"
     },
     "output_type": "display_data"
    }
   ],
   "source": [
    "# Evaluate performances on the training set\n",
    "mesures_perf_train = model.evaluate(x_train, y_train)\n",
    "print('resultats train : ', mesures_perf_train)\n",
    "\n",
    "# Evaluate performances on the test set\n",
    "mesures_perf_test = model.evaluate(x_test, y_test)\n",
    "print('resultats test : ', mesures_perf_test)\n",
    "\n",
    "# Display performances through epochs\n",
    "plt.figure(figsize=(8,4))\n",
    "# Accuracy evolution\n",
    "plt.subplot(1,2,1)\n",
    "plt.plot(history.history['accuracy'])\n",
    "plt.plot(history.history['val_accuracy'])\n",
    "plt.title('Evolution of Accuracy')\n",
    "plt.ylabel('Accuracy')\n",
    "plt.xlabel('epochs')\n",
    "\n",
    "plt.subplot(1,2,2)\n",
    "# Loss function evolution\n",
    "plt.plot(history.history['loss'])\n",
    "plt.plot(history.history['val_loss'])\n",
    "plt.title('Evolution of Loss')\n",
    "plt.ylabel('Loss')\n",
    "plt.xlabel('epochs')"
   ]
  },
  {
   "cell_type": "code",
   "execution_count": 10,
   "id": "purple-match",
   "metadata": {},
   "outputs": [],
   "source": [
    "model.save('CNN.h5')"
   ]
  },
  {
   "cell_type": "markdown",
   "id": "exotic-stable",
   "metadata": {},
   "source": [
    "# Checks"
   ]
  },
  {
   "cell_type": "code",
   "execution_count": 65,
   "id": "powered-alarm",
   "metadata": {},
   "outputs": [],
   "source": [
    "def getConfusionMatrix(true_labels, pred_labels, plot=False):\n",
    "    conf_matrix = confusion_matrix(true_labels, pred_labels)\n",
    "    conf_matrix_norm = (conf_matrix.T / np.sum(conf_matrix, axis=1)).T\n",
    "\n",
    "    if plot:\n",
    "        opts = {'cmap' : 'RdBu_r'}\n",
    "\n",
    "        plt.pcolor(conf_matrix_norm, **opts, norm=SymLogNorm(0.1))\n",
    "        plt.yticks(np.arange(0.5, conf_matrix.shape[1], 1), range(3))\n",
    "        plt.xticks(np.arange(0.5, conf_matrix.shape[0], 1), range(3))\n",
    "\n",
    "        for irow in range(conf_matrix.shape[0]):           \n",
    "            for icol in range(conf_matrix.shape[1]):                    \n",
    "                plt.text(icol+0.5, irow+0.5, '{:.3f}'.format(conf_matrix_norm[irow][icol]),\n",
    "                         ha=\"center\", va=\"center\", color=\"black\") \n",
    "\n",
    "        plt.xlabel('Predicted class')\n",
    "        plt.ylabel('True class')\n",
    "        \n",
    "    return conf_matrix_norm"
   ]
  },
  {
   "cell_type": "code",
   "execution_count": 11,
   "id": "european-encoding",
   "metadata": {},
   "outputs": [],
   "source": [
    "predictions = model.predict(x_test)\n",
    "pred_labels = np.argmax(predictions, axis=1)\n",
    "true_labels = np.argmax(y_test, axis=1)"
   ]
  },
  {
   "cell_type": "code",
   "execution_count": 3,
   "id": "better-oriental",
   "metadata": {
    "collapsed": true
   },
   "outputs": [
    {
     "name": "stdout",
     "output_type": "stream",
     "text": [
      "WARNING:tensorflow:From /home/theo/anaconda3/envs/keras-env/lib/python3.7/site-packages/keras/backend/tensorflow_backend.py:4070: The name tf.nn.max_pool is deprecated. Please use tf.nn.max_pool2d instead.\n",
      "\n",
      "WARNING:tensorflow:From /home/theo/anaconda3/envs/keras-env/lib/python3.7/site-packages/keras/backend/tensorflow_backend.py:422: The name tf.global_variables is deprecated. Please use tf.compat.v1.global_variables instead.\n",
      "\n"
     ]
    }
   ],
   "source": [
    "import keras.models\n",
    "cnn = keras.models.load_model('CNN.h5')\n",
    "\n",
    "predictions = cnn.predict(x_test)\n",
    "pred_labels = np.argmax(predictions, axis=1)\n",
    "true_labels = np.argmax(y_test, axis=1)"
   ]
  },
  {
   "cell_type": "code",
   "execution_count": 67,
   "id": "egyptian-insight",
   "metadata": {},
   "outputs": [
    {
     "name": "stderr",
     "output_type": "stream",
     "text": [
      "/home/theo/anaconda3/envs/keras-env/lib/python3.7/site-packages/ipykernel_launcher.py:8: MatplotlibDeprecationWarning: default base will change from np.e to 10 in 3.4.  To suppress this warning specify the base keyword argument.\n",
      "  \n"
     ]
    },
    {
     "data": {
      "image/png": "[encoded data removed]",
      "text/plain": [
       "<Figure size 720x576 with 1 Axes>"
      ]
     },
     "metadata": {
      "needs_background": "light"
     },
     "output_type": "display_data"
    }
   ],
   "source": [
    "cm_nom = getConfusionMatrix(true_labels, pred_labels, plot=True)"
   ]
  },
  {
   "cell_type": "code",
   "execution_count": 68,
   "id": "seeing-decline",
   "metadata": {},
   "outputs": [],
   "source": [
    "x_test_lumi = np.mean( x_test.reshape((1786,240*320)), axis=1 )\n",
    "mask = x_test_lumi < np.median(x_test_lumi)"
   ]
  },
  {
   "cell_type": "code",
   "execution_count": 69,
   "id": "separate-hundred",
   "metadata": {},
   "outputs": [],
   "source": [
    "cm_lumi_down = getConfusionMatrix(true_labels[mask], pred_labels[mask])"
   ]
  },
  {
   "cell_type": "code",
   "execution_count": 70,
   "id": "controversial-delta",
   "metadata": {},
   "outputs": [],
   "source": [
    "cm_lumi_up = getConfusionMatrix(true_labels[~mask], pred_labels[~mask])"
   ]
  },
  {
   "cell_type": "markdown",
   "id": "square-elder",
   "metadata": {},
   "source": [
    "## Export confusion matrices"
   ]
  },
  {
   "cell_type": "code",
   "execution_count": 73,
   "id": "appointed-navigation",
   "metadata": {},
   "outputs": [],
   "source": [
    "conf_matrix_dict = {}\n",
    "conf_matrix_dict['nominal'] = cm_nom.tolist()\n",
    "conf_matrix_dict['lumi_down'] = cm_lumi_down.tolist()\n",
    "conf_matrix_dict['lumi_up'] = cm_lumi_up.tolist()\n",
    "\n",
    "with open('confusion_matrix.json', 'w') as f:\n",
    "    json.dump(conf_matrix_dict, f, indent=4)"
   ]
  },
  {
   "cell_type": "code",
   "execution_count": 74,
   "id": "clinical-particle",
   "metadata": {},
   "outputs": [
    {
     "data": {
      "text/plain": [
       "{'nominal': [[0.9872231686541738, 0.0034071550255536627, 0.009369676320272573],\n",
       "  [0.024793388429752067, 0.9118457300275482, 0.06336088154269973],\n",
       "  [0.012048192771084338, 0.06827309236947791, 0.9196787148594378]],\n",
       " 'lumi_down': [[0.9902120717781403,\n",
       "   0.0016313213703099511,\n",
       "   0.008156606851549755],\n",
       "  [0.023952095808383235, 0.9041916167664671, 0.0718562874251497],\n",
       "  [0.008849557522123894, 0.07964601769911504, 0.911504424778761]],\n",
       " 'lumi_up': [[0.983957219251337, 0.0053475935828877, 0.0106951871657754],\n",
       "  [0.025510204081632654, 0.9183673469387755, 0.05612244897959184],\n",
       "  [0.014705882352941176, 0.058823529411764705, 0.9264705882352942]]}"
      ]
     },
     "execution_count": 74,
     "metadata": {},
     "output_type": "execute_result"
    }
   ],
   "source": [
    "conf_matrix_dict"
   ]
  },
  {
   "cell_type": "markdown",
   "id": "boolean-chester",
   "metadata": {},
   "source": [
    "## Probablities distribution"
   ]
  },
  {
   "cell_type": "code",
   "execution_count": 14,
   "id": "union-superior",
   "metadata": {},
   "outputs": [
    {
     "data": {
      "text/plain": [
       "<matplotlib.legend.Legend at 0x7feb8c5dc2d0>"
      ]
     },
     "execution_count": 14,
     "metadata": {},
     "output_type": "execute_result"
    },
    {
     "data": {
      "image/png": "[encoded data removed]",
      "text/plain": [
       "<Figure size 720x576 with 1 Axes>"
      ]
     },
     "metadata": {
      "needs_background": "light"
     },
     "output_type": "display_data"
    }
   ],
   "source": [
    "pred_class = 2\n",
    "\n",
    "bins= np.linspace(0, 1, 10)\n",
    "bins = np.append(bins,1)\n",
    "\n",
    "plt.hist( predictions[:,pred_class][true_labels == 0], bins=bins, color='blue', label='true class = 0',\n",
    "          density=True, alpha=0.5)\n",
    "plt.hist( predictions[:,pred_class][true_labels == 1], bins=bins, color='green', label='true class = 1',\n",
    "          density=True, alpha=0.5)\n",
    "plt.hist( predictions[:,pred_class][true_labels == 2], bins=bins, color='red', label='true class = 2',\n",
    "          density=True, alpha=0.5)\n",
    "\n",
    "plt.xlabel(f'p(class={pred_class})')\n",
    "plt.ylabel('$N_{event}$')\n",
    "plt.legend()"
   ]
  }
 ],
 "metadata": {
  "kernelspec": {
   "display_name": "Python 3",
   "language": "python",
   "name": "python3"
  },
  "language_info": {
   "codemirror_mode": {
    "name": "ipython",
    "version": 3
   },
   "file_extension": ".py",
   "mimetype": "text/x-python",
   "name": "python",
   "nbconvert_exporter": "python",
   "pygments_lexer": "ipython3",
   "version": "3.7.9"
  }
 },
 "nbformat": 4,
 "nbformat_minor": 5
}
